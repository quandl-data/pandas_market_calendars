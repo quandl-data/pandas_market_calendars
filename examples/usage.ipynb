{
 "cells": [
  {
   "cell_type": "markdown",
   "metadata": {},
   "source": [
    "# pandas_market_calendars"
   ]
  },
  {
   "cell_type": "code",
   "execution_count": 1,
   "metadata": {
    "collapsed": false
   },
   "outputs": [],
   "source": [
    "import sys\n",
    "sys.path.append(\"../\") \n",
    "from datetime import time\n",
    "import pandas as pd\n",
    "import pandas_market_calendars as mcal"
   ]
  },
  {
   "cell_type": "markdown",
   "metadata": {},
   "source": [
    "## Setup new exchange calendar"
   ]
  },
  {
   "cell_type": "code",
   "execution_count": 2,
   "metadata": {
    "collapsed": true
   },
   "outputs": [],
   "source": [
    "nyse = mcal.get_calendar('NYSE')"
   ]
  },
  {
   "cell_type": "markdown",
   "metadata": {},
   "source": [
    "Get the time zone"
   ]
  },
  {
   "cell_type": "code",
   "execution_count": 3,
   "metadata": {
    "collapsed": false
   },
   "outputs": [
    {
     "data": {
      "text/plain": [
       "'America/New_York'"
      ]
     },
     "execution_count": 3,
     "metadata": {},
     "output_type": "execute_result"
    }
   ],
   "source": [
    "nyse.tz.zone"
   ]
  },
  {
   "cell_type": "markdown",
   "metadata": {},
   "source": [
    "Get the AbstractHolidayCalendar object"
   ]
  },
  {
   "cell_type": "code",
   "execution_count": 4,
   "metadata": {
    "collapsed": false
   },
   "outputs": [
    {
     "data": {
      "text/plain": [
       "(numpy.datetime64('2030-05-27'),\n",
       " numpy.datetime64('2030-07-04'),\n",
       " numpy.datetime64('2030-09-02'),\n",
       " numpy.datetime64('2030-11-28'),\n",
       " numpy.datetime64('2030-12-25'))"
      ]
     },
     "execution_count": 4,
     "metadata": {},
     "output_type": "execute_result"
    }
   ],
   "source": [
    "holidays = nyse.holidays()\n",
    "holidays.holidays[-5:]"
   ]
  },
  {
   "cell_type": "markdown",
   "metadata": {},
   "source": [
    "## Exchange open valid business days"
   ]
  },
  {
   "cell_type": "markdown",
   "metadata": {},
   "source": [
    "Get the valid open exchange business dates between a start and end date.\n",
    "Note that Dec 26 (Christmas), Jan 2 (New Years) and all weekends are missing"
   ]
  },
  {
   "cell_type": "code",
   "execution_count": 5,
   "metadata": {
    "collapsed": false
   },
   "outputs": [
    {
     "data": {
      "text/plain": [
       "DatetimeIndex(['2016-12-20', '2016-12-21', '2016-12-22', '2016-12-23',\n",
       "               '2016-12-27', '2016-12-28', '2016-12-29', '2016-12-30',\n",
       "               '2017-01-03', '2017-01-04', '2017-01-05', '2017-01-06',\n",
       "               '2017-01-09', '2017-01-10'],\n",
       "              dtype='datetime64[ns, UTC]', freq='C')"
      ]
     },
     "execution_count": 5,
     "metadata": {},
     "output_type": "execute_result"
    }
   ],
   "source": [
    "nyse.valid_days(start_date='2016-12-20', end_date='2017-01-10')"
   ]
  },
  {
   "cell_type": "markdown",
   "metadata": {},
   "source": [
    "## Schedule"
   ]
  },
  {
   "cell_type": "code",
   "execution_count": 6,
   "metadata": {
    "collapsed": false
   },
   "outputs": [
    {
     "data": {
      "text/html": [
       "<div>\n",
       "<table border=\"1\" class=\"dataframe\">\n",
       "  <thead>\n",
       "    <tr style=\"text-align: right;\">\n",
       "      <th></th>\n",
       "      <th>market_open</th>\n",
       "      <th>market_close</th>\n",
       "    </tr>\n",
       "  </thead>\n",
       "  <tbody>\n",
       "    <tr>\n",
       "      <th>2016-12-30</th>\n",
       "      <td>2016-12-30 14:30:00+00:00</td>\n",
       "      <td>2016-12-30 21:00:00+00:00</td>\n",
       "    </tr>\n",
       "    <tr>\n",
       "      <th>2017-01-03</th>\n",
       "      <td>2017-01-03 14:30:00+00:00</td>\n",
       "      <td>2017-01-03 21:00:00+00:00</td>\n",
       "    </tr>\n",
       "    <tr>\n",
       "      <th>2017-01-04</th>\n",
       "      <td>2017-01-04 14:30:00+00:00</td>\n",
       "      <td>2017-01-04 21:00:00+00:00</td>\n",
       "    </tr>\n",
       "    <tr>\n",
       "      <th>2017-01-05</th>\n",
       "      <td>2017-01-05 14:30:00+00:00</td>\n",
       "      <td>2017-01-05 21:00:00+00:00</td>\n",
       "    </tr>\n",
       "    <tr>\n",
       "      <th>2017-01-06</th>\n",
       "      <td>2017-01-06 14:30:00+00:00</td>\n",
       "      <td>2017-01-06 21:00:00+00:00</td>\n",
       "    </tr>\n",
       "    <tr>\n",
       "      <th>2017-01-09</th>\n",
       "      <td>2017-01-09 14:30:00+00:00</td>\n",
       "      <td>2017-01-09 21:00:00+00:00</td>\n",
       "    </tr>\n",
       "    <tr>\n",
       "      <th>2017-01-10</th>\n",
       "      <td>2017-01-10 14:30:00+00:00</td>\n",
       "      <td>2017-01-10 21:00:00+00:00</td>\n",
       "    </tr>\n",
       "  </tbody>\n",
       "</table>\n",
       "</div>"
      ],
      "text/plain": [
       "                         market_open              market_close\n",
       "2016-12-30 2016-12-30 14:30:00+00:00 2016-12-30 21:00:00+00:00\n",
       "2017-01-03 2017-01-03 14:30:00+00:00 2017-01-03 21:00:00+00:00\n",
       "2017-01-04 2017-01-04 14:30:00+00:00 2017-01-04 21:00:00+00:00\n",
       "2017-01-05 2017-01-05 14:30:00+00:00 2017-01-05 21:00:00+00:00\n",
       "2017-01-06 2017-01-06 14:30:00+00:00 2017-01-06 21:00:00+00:00\n",
       "2017-01-09 2017-01-09 14:30:00+00:00 2017-01-09 21:00:00+00:00\n",
       "2017-01-10 2017-01-10 14:30:00+00:00 2017-01-10 21:00:00+00:00"
      ]
     },
     "execution_count": 6,
     "metadata": {},
     "output_type": "execute_result"
    }
   ],
   "source": [
    "schedule = nyse.schedule(start_date='2016-12-30', end_date='2017-01-10')\n",
    "schedule"
   ]
  },
  {
   "cell_type": "code",
   "execution_count": 7,
   "metadata": {
    "collapsed": false
   },
   "outputs": [
    {
     "data": {
      "text/html": [
       "<div>\n",
       "<table border=\"1\" class=\"dataframe\">\n",
       "  <thead>\n",
       "    <tr style=\"text-align: right;\">\n",
       "      <th></th>\n",
       "      <th>market_open</th>\n",
       "      <th>market_close</th>\n",
       "    </tr>\n",
       "  </thead>\n",
       "  <tbody>\n",
       "    <tr>\n",
       "      <th>2012-07-02</th>\n",
       "      <td>2012-07-02 13:30:00+00:00</td>\n",
       "      <td>2012-07-02 20:00:00+00:00</td>\n",
       "    </tr>\n",
       "    <tr>\n",
       "      <th>2012-07-03</th>\n",
       "      <td>2012-07-03 13:30:00+00:00</td>\n",
       "      <td>2012-07-03 17:00:00+00:00</td>\n",
       "    </tr>\n",
       "    <tr>\n",
       "      <th>2012-07-05</th>\n",
       "      <td>2012-07-05 13:30:00+00:00</td>\n",
       "      <td>2012-07-05 20:00:00+00:00</td>\n",
       "    </tr>\n",
       "    <tr>\n",
       "      <th>2012-07-06</th>\n",
       "      <td>2012-07-06 13:30:00+00:00</td>\n",
       "      <td>2012-07-06 20:00:00+00:00</td>\n",
       "    </tr>\n",
       "    <tr>\n",
       "      <th>2012-07-09</th>\n",
       "      <td>2012-07-09 13:30:00+00:00</td>\n",
       "      <td>2012-07-09 20:00:00+00:00</td>\n",
       "    </tr>\n",
       "    <tr>\n",
       "      <th>2012-07-10</th>\n",
       "      <td>2012-07-10 13:30:00+00:00</td>\n",
       "      <td>2012-07-10 20:00:00+00:00</td>\n",
       "    </tr>\n",
       "  </tbody>\n",
       "</table>\n",
       "</div>"
      ],
      "text/plain": [
       "                         market_open              market_close\n",
       "2012-07-02 2012-07-02 13:30:00+00:00 2012-07-02 20:00:00+00:00\n",
       "2012-07-03 2012-07-03 13:30:00+00:00 2012-07-03 17:00:00+00:00\n",
       "2012-07-05 2012-07-05 13:30:00+00:00 2012-07-05 20:00:00+00:00\n",
       "2012-07-06 2012-07-06 13:30:00+00:00 2012-07-06 20:00:00+00:00\n",
       "2012-07-09 2012-07-09 13:30:00+00:00 2012-07-09 20:00:00+00:00\n",
       "2012-07-10 2012-07-10 13:30:00+00:00 2012-07-10 20:00:00+00:00"
      ]
     },
     "execution_count": 7,
     "metadata": {},
     "output_type": "execute_result"
    }
   ],
   "source": [
    "# with early closes\n",
    "early = nyse.schedule(start_date='2012-07-01', end_date='2012-07-10')\n",
    "early"
   ]
  },
  {
   "cell_type": "markdown",
   "metadata": {},
   "source": [
    "## Get early closes"
   ]
  },
  {
   "cell_type": "code",
   "execution_count": 8,
   "metadata": {
    "collapsed": false
   },
   "outputs": [
    {
     "data": {
      "text/html": [
       "<div>\n",
       "<table border=\"1\" class=\"dataframe\">\n",
       "  <thead>\n",
       "    <tr style=\"text-align: right;\">\n",
       "      <th></th>\n",
       "      <th>market_open</th>\n",
       "      <th>market_close</th>\n",
       "    </tr>\n",
       "  </thead>\n",
       "  <tbody>\n",
       "    <tr>\n",
       "      <th>2012-07-03</th>\n",
       "      <td>2012-07-03 13:30:00+00:00</td>\n",
       "      <td>2012-07-03 17:00:00+00:00</td>\n",
       "    </tr>\n",
       "  </tbody>\n",
       "</table>\n",
       "</div>"
      ],
      "text/plain": [
       "                         market_open              market_close\n",
       "2012-07-03 2012-07-03 13:30:00+00:00 2012-07-03 17:00:00+00:00"
      ]
     },
     "execution_count": 8,
     "metadata": {},
     "output_type": "execute_result"
    }
   ],
   "source": [
    "nyse.early_closes(schedule=early)"
   ]
  },
  {
   "cell_type": "markdown",
   "metadata": {},
   "source": [
    "## Open at time\n",
    "Test to see if a given timestamp is during market open hours"
   ]
  },
  {
   "cell_type": "code",
   "execution_count": 9,
   "metadata": {
    "collapsed": false
   },
   "outputs": [
    {
     "data": {
      "text/plain": [
       "True"
      ]
     },
     "execution_count": 9,
     "metadata": {},
     "output_type": "execute_result"
    }
   ],
   "source": [
    "nyse.open_at_time(early, pd.Timestamp('2012-07-03 12:00', tz='America/New_York'))"
   ]
  },
  {
   "cell_type": "code",
   "execution_count": 10,
   "metadata": {
    "collapsed": false
   },
   "outputs": [
    {
     "data": {
      "text/plain": [
       "False"
      ]
     },
     "execution_count": 10,
     "metadata": {},
     "output_type": "execute_result"
    }
   ],
   "source": [
    "nyse.open_at_time(early, pd.Timestamp('2012-07-03 16:00', tz='America/New_York'))"
   ]
  },
  {
   "cell_type": "markdown",
   "metadata": {},
   "source": [
    "## Date Range\n",
    "This function will take a schedule DataFrame and return a DatetimeIndex with all timestamps at the frequency given\n",
    "for all of the exchange open dates and times."
   ]
  },
  {
   "cell_type": "code",
   "execution_count": 11,
   "metadata": {
    "collapsed": false
   },
   "outputs": [
    {
     "data": {
      "text/plain": [
       "DatetimeIndex(['2012-07-02 20:00:00+00:00', '2012-07-03 17:00:00+00:00',\n",
       "               '2012-07-05 20:00:00+00:00', '2012-07-06 20:00:00+00:00',\n",
       "               '2012-07-09 20:00:00+00:00', '2012-07-10 20:00:00+00:00'],\n",
       "              dtype='datetime64[ns, UTC]', freq=None)"
      ]
     },
     "execution_count": 11,
     "metadata": {},
     "output_type": "execute_result"
    }
   ],
   "source": [
    "mcal.date_range(early, frequency='1D')"
   ]
  },
  {
   "cell_type": "code",
   "execution_count": 12,
   "metadata": {
    "collapsed": false
   },
   "outputs": [
    {
     "data": {
      "text/plain": [
       "DatetimeIndex(['2012-07-02 14:30:00+00:00', '2012-07-02 15:30:00+00:00',\n",
       "               '2012-07-02 16:30:00+00:00', '2012-07-02 17:30:00+00:00',\n",
       "               '2012-07-02 18:30:00+00:00', '2012-07-02 19:30:00+00:00',\n",
       "               '2012-07-02 20:00:00+00:00', '2012-07-03 14:30:00+00:00',\n",
       "               '2012-07-03 15:30:00+00:00', '2012-07-03 16:30:00+00:00',\n",
       "               '2012-07-03 17:00:00+00:00', '2012-07-05 14:30:00+00:00',\n",
       "               '2012-07-05 15:30:00+00:00', '2012-07-05 16:30:00+00:00',\n",
       "               '2012-07-05 17:30:00+00:00', '2012-07-05 18:30:00+00:00',\n",
       "               '2012-07-05 19:30:00+00:00', '2012-07-05 20:00:00+00:00',\n",
       "               '2012-07-06 14:30:00+00:00', '2012-07-06 15:30:00+00:00',\n",
       "               '2012-07-06 16:30:00+00:00', '2012-07-06 17:30:00+00:00',\n",
       "               '2012-07-06 18:30:00+00:00', '2012-07-06 19:30:00+00:00',\n",
       "               '2012-07-06 20:00:00+00:00', '2012-07-09 14:30:00+00:00',\n",
       "               '2012-07-09 15:30:00+00:00', '2012-07-09 16:30:00+00:00',\n",
       "               '2012-07-09 17:30:00+00:00', '2012-07-09 18:30:00+00:00',\n",
       "               '2012-07-09 19:30:00+00:00', '2012-07-09 20:00:00+00:00',\n",
       "               '2012-07-10 14:30:00+00:00', '2012-07-10 15:30:00+00:00',\n",
       "               '2012-07-10 16:30:00+00:00', '2012-07-10 17:30:00+00:00',\n",
       "               '2012-07-10 18:30:00+00:00', '2012-07-10 19:30:00+00:00',\n",
       "               '2012-07-10 20:00:00+00:00'],\n",
       "              dtype='datetime64[ns, UTC]', freq=None)"
      ]
     },
     "execution_count": 12,
     "metadata": {},
     "output_type": "execute_result"
    }
   ],
   "source": [
    "mcal.date_range(early, frequency='1H')"
   ]
  },
  {
   "cell_type": "markdown",
   "metadata": {},
   "source": [
    "## Custom open and close times\n",
    "If you want to override the market open and close times enter these at construction"
   ]
  },
  {
   "cell_type": "code",
   "execution_count": 13,
   "metadata": {
    "collapsed": false
   },
   "outputs": [
    {
     "name": "stdout",
     "output_type": "stream",
     "text": [
      "open, close: 10:00:00, 14:30:00\n"
     ]
    }
   ],
   "source": [
    "cal = mcal.get_calendar('NYSE', open_time=time(10, 0), close_time=time(14, 30))\n",
    "print('open, close: %s, %s' % (cal.open_time, cal.close_time))"
   ]
  },
  {
   "cell_type": "markdown",
   "metadata": {},
   "source": [
    "## Merge schedules"
   ]
  },
  {
   "cell_type": "code",
   "execution_count": 14,
   "metadata": {
    "collapsed": false
   },
   "outputs": [
    {
     "data": {
      "text/html": [
       "<div>\n",
       "<table border=\"1\" class=\"dataframe\">\n",
       "  <thead>\n",
       "    <tr style=\"text-align: right;\">\n",
       "      <th></th>\n",
       "      <th>market_open</th>\n",
       "      <th>market_close</th>\n",
       "    </tr>\n",
       "  </thead>\n",
       "  <tbody>\n",
       "    <tr>\n",
       "      <th>2015-12-21</th>\n",
       "      <td>2015-12-21 14:30:00+00:00</td>\n",
       "      <td>2015-12-21 21:00:00+00:00</td>\n",
       "    </tr>\n",
       "    <tr>\n",
       "      <th>2015-12-22</th>\n",
       "      <td>2015-12-22 14:30:00+00:00</td>\n",
       "      <td>2015-12-22 21:00:00+00:00</td>\n",
       "    </tr>\n",
       "    <tr>\n",
       "      <th>2015-12-23</th>\n",
       "      <td>2015-12-23 14:30:00+00:00</td>\n",
       "      <td>2015-12-23 21:00:00+00:00</td>\n",
       "    </tr>\n",
       "    <tr>\n",
       "      <th>2015-12-24</th>\n",
       "      <td>2015-12-24 14:30:00+00:00</td>\n",
       "      <td>2015-12-24 18:00:00+00:00</td>\n",
       "    </tr>\n",
       "    <tr>\n",
       "      <th>2015-12-28</th>\n",
       "      <td>2015-12-28 14:30:00+00:00</td>\n",
       "      <td>2015-12-28 21:00:00+00:00</td>\n",
       "    </tr>\n",
       "    <tr>\n",
       "      <th>2015-12-29</th>\n",
       "      <td>2015-12-29 14:30:00+00:00</td>\n",
       "      <td>2015-12-29 21:00:00+00:00</td>\n",
       "    </tr>\n",
       "    <tr>\n",
       "      <th>2015-12-30</th>\n",
       "      <td>2015-12-30 14:30:00+00:00</td>\n",
       "      <td>2015-12-30 21:00:00+00:00</td>\n",
       "    </tr>\n",
       "    <tr>\n",
       "      <th>2015-12-31</th>\n",
       "      <td>2015-12-31 14:30:00+00:00</td>\n",
       "      <td>2015-12-31 21:00:00+00:00</td>\n",
       "    </tr>\n",
       "    <tr>\n",
       "      <th>2016-01-04</th>\n",
       "      <td>2016-01-04 14:30:00+00:00</td>\n",
       "      <td>2016-01-04 21:00:00+00:00</td>\n",
       "    </tr>\n",
       "    <tr>\n",
       "      <th>2016-01-05</th>\n",
       "      <td>2016-01-05 14:30:00+00:00</td>\n",
       "      <td>2016-01-05 21:00:00+00:00</td>\n",
       "    </tr>\n",
       "    <tr>\n",
       "      <th>2016-01-06</th>\n",
       "      <td>2016-01-06 14:30:00+00:00</td>\n",
       "      <td>2016-01-06 21:00:00+00:00</td>\n",
       "    </tr>\n",
       "  </tbody>\n",
       "</table>\n",
       "</div>"
      ],
      "text/plain": [
       "                         market_open              market_close\n",
       "2015-12-21 2015-12-21 14:30:00+00:00 2015-12-21 21:00:00+00:00\n",
       "2015-12-22 2015-12-22 14:30:00+00:00 2015-12-22 21:00:00+00:00\n",
       "2015-12-23 2015-12-23 14:30:00+00:00 2015-12-23 21:00:00+00:00\n",
       "2015-12-24 2015-12-24 14:30:00+00:00 2015-12-24 18:00:00+00:00\n",
       "2015-12-28 2015-12-28 14:30:00+00:00 2015-12-28 21:00:00+00:00\n",
       "2015-12-29 2015-12-29 14:30:00+00:00 2015-12-29 21:00:00+00:00\n",
       "2015-12-30 2015-12-30 14:30:00+00:00 2015-12-30 21:00:00+00:00\n",
       "2015-12-31 2015-12-31 14:30:00+00:00 2015-12-31 21:00:00+00:00\n",
       "2016-01-04 2016-01-04 14:30:00+00:00 2016-01-04 21:00:00+00:00\n",
       "2016-01-05 2016-01-05 14:30:00+00:00 2016-01-05 21:00:00+00:00\n",
       "2016-01-06 2016-01-06 14:30:00+00:00 2016-01-06 21:00:00+00:00"
      ]
     },
     "execution_count": 14,
     "metadata": {},
     "output_type": "execute_result"
    }
   ],
   "source": [
    "# NYSE Calendar\n",
    "nyse = mcal.get_calendar('NYSE')\n",
    "schedule_nyse = nyse.schedule('2015-12-20', '2016-01-06')\n",
    "schedule_nyse"
   ]
  },
  {
   "cell_type": "code",
   "execution_count": 15,
   "metadata": {
    "collapsed": false
   },
   "outputs": [
    {
     "data": {
      "text/html": [
       "<div>\n",
       "<table border=\"1\" class=\"dataframe\">\n",
       "  <thead>\n",
       "    <tr style=\"text-align: right;\">\n",
       "      <th></th>\n",
       "      <th>market_open</th>\n",
       "      <th>market_close</th>\n",
       "    </tr>\n",
       "  </thead>\n",
       "  <tbody>\n",
       "    <tr>\n",
       "      <th>2015-12-21</th>\n",
       "      <td>2015-12-21 08:00:00+00:00</td>\n",
       "      <td>2015-12-21 16:30:00+00:00</td>\n",
       "    </tr>\n",
       "    <tr>\n",
       "      <th>2015-12-22</th>\n",
       "      <td>2015-12-22 08:00:00+00:00</td>\n",
       "      <td>2015-12-22 16:30:00+00:00</td>\n",
       "    </tr>\n",
       "    <tr>\n",
       "      <th>2015-12-23</th>\n",
       "      <td>2015-12-23 08:00:00+00:00</td>\n",
       "      <td>2015-12-23 16:30:00+00:00</td>\n",
       "    </tr>\n",
       "    <tr>\n",
       "      <th>2015-12-24</th>\n",
       "      <td>2015-12-24 08:00:00+00:00</td>\n",
       "      <td>2015-12-24 12:30:00+00:00</td>\n",
       "    </tr>\n",
       "    <tr>\n",
       "      <th>2015-12-29</th>\n",
       "      <td>2015-12-29 08:00:00+00:00</td>\n",
       "      <td>2015-12-29 16:30:00+00:00</td>\n",
       "    </tr>\n",
       "    <tr>\n",
       "      <th>2015-12-30</th>\n",
       "      <td>2015-12-30 08:00:00+00:00</td>\n",
       "      <td>2015-12-30 16:30:00+00:00</td>\n",
       "    </tr>\n",
       "    <tr>\n",
       "      <th>2015-12-31</th>\n",
       "      <td>2015-12-31 08:00:00+00:00</td>\n",
       "      <td>2015-12-31 12:30:00+00:00</td>\n",
       "    </tr>\n",
       "    <tr>\n",
       "      <th>2016-01-04</th>\n",
       "      <td>2016-01-04 08:00:00+00:00</td>\n",
       "      <td>2016-01-04 16:30:00+00:00</td>\n",
       "    </tr>\n",
       "    <tr>\n",
       "      <th>2016-01-05</th>\n",
       "      <td>2016-01-05 08:00:00+00:00</td>\n",
       "      <td>2016-01-05 16:30:00+00:00</td>\n",
       "    </tr>\n",
       "    <tr>\n",
       "      <th>2016-01-06</th>\n",
       "      <td>2016-01-06 08:00:00+00:00</td>\n",
       "      <td>2016-01-06 16:30:00+00:00</td>\n",
       "    </tr>\n",
       "  </tbody>\n",
       "</table>\n",
       "</div>"
      ],
      "text/plain": [
       "                         market_open              market_close\n",
       "2015-12-21 2015-12-21 08:00:00+00:00 2015-12-21 16:30:00+00:00\n",
       "2015-12-22 2015-12-22 08:00:00+00:00 2015-12-22 16:30:00+00:00\n",
       "2015-12-23 2015-12-23 08:00:00+00:00 2015-12-23 16:30:00+00:00\n",
       "2015-12-24 2015-12-24 08:00:00+00:00 2015-12-24 12:30:00+00:00\n",
       "2015-12-29 2015-12-29 08:00:00+00:00 2015-12-29 16:30:00+00:00\n",
       "2015-12-30 2015-12-30 08:00:00+00:00 2015-12-30 16:30:00+00:00\n",
       "2015-12-31 2015-12-31 08:00:00+00:00 2015-12-31 12:30:00+00:00\n",
       "2016-01-04 2016-01-04 08:00:00+00:00 2016-01-04 16:30:00+00:00\n",
       "2016-01-05 2016-01-05 08:00:00+00:00 2016-01-05 16:30:00+00:00\n",
       "2016-01-06 2016-01-06 08:00:00+00:00 2016-01-06 16:30:00+00:00"
      ]
     },
     "execution_count": 15,
     "metadata": {},
     "output_type": "execute_result"
    }
   ],
   "source": [
    "# LSE Calendar\n",
    "lse = mcal.get_calendar('LSE')\n",
    "schedule_lse = lse.schedule('2015-12-20', '2016-01-06')\n",
    "schedule_lse"
   ]
  },
  {
   "cell_type": "markdown",
   "metadata": {},
   "source": [
    "### Inner merge\n",
    "This will find the dates where both the NYSE and LSE are open.\n",
    "Notice that Dec 28th is open for NYSE but not LSE.\n",
    "Also note that some days have a close prior to the open. This function does not currently check for that."
   ]
  },
  {
   "cell_type": "code",
   "execution_count": 16,
   "metadata": {
    "collapsed": false
   },
   "outputs": [
    {
     "data": {
      "text/html": [
       "<div>\n",
       "<table border=\"1\" class=\"dataframe\">\n",
       "  <thead>\n",
       "    <tr style=\"text-align: right;\">\n",
       "      <th></th>\n",
       "      <th>market_open</th>\n",
       "      <th>market_close</th>\n",
       "    </tr>\n",
       "  </thead>\n",
       "  <tbody>\n",
       "    <tr>\n",
       "      <th>2015-12-21</th>\n",
       "      <td>2015-12-21 14:30:00+00:00</td>\n",
       "      <td>2015-12-21 16:30:00+00:00</td>\n",
       "    </tr>\n",
       "    <tr>\n",
       "      <th>2015-12-22</th>\n",
       "      <td>2015-12-22 14:30:00+00:00</td>\n",
       "      <td>2015-12-22 16:30:00+00:00</td>\n",
       "    </tr>\n",
       "    <tr>\n",
       "      <th>2015-12-23</th>\n",
       "      <td>2015-12-23 14:30:00+00:00</td>\n",
       "      <td>2015-12-23 16:30:00+00:00</td>\n",
       "    </tr>\n",
       "    <tr>\n",
       "      <th>2015-12-24</th>\n",
       "      <td>2015-12-24 14:30:00+00:00</td>\n",
       "      <td>2015-12-24 12:30:00+00:00</td>\n",
       "    </tr>\n",
       "    <tr>\n",
       "      <th>2015-12-29</th>\n",
       "      <td>2015-12-29 14:30:00+00:00</td>\n",
       "      <td>2015-12-29 16:30:00+00:00</td>\n",
       "    </tr>\n",
       "    <tr>\n",
       "      <th>2015-12-30</th>\n",
       "      <td>2015-12-30 14:30:00+00:00</td>\n",
       "      <td>2015-12-30 16:30:00+00:00</td>\n",
       "    </tr>\n",
       "    <tr>\n",
       "      <th>2015-12-31</th>\n",
       "      <td>2015-12-31 14:30:00+00:00</td>\n",
       "      <td>2015-12-31 12:30:00+00:00</td>\n",
       "    </tr>\n",
       "    <tr>\n",
       "      <th>2016-01-04</th>\n",
       "      <td>2016-01-04 14:30:00+00:00</td>\n",
       "      <td>2016-01-04 16:30:00+00:00</td>\n",
       "    </tr>\n",
       "    <tr>\n",
       "      <th>2016-01-05</th>\n",
       "      <td>2016-01-05 14:30:00+00:00</td>\n",
       "      <td>2016-01-05 16:30:00+00:00</td>\n",
       "    </tr>\n",
       "    <tr>\n",
       "      <th>2016-01-06</th>\n",
       "      <td>2016-01-06 14:30:00+00:00</td>\n",
       "      <td>2016-01-06 16:30:00+00:00</td>\n",
       "    </tr>\n",
       "  </tbody>\n",
       "</table>\n",
       "</div>"
      ],
      "text/plain": [
       "                         market_open              market_close\n",
       "2015-12-21 2015-12-21 14:30:00+00:00 2015-12-21 16:30:00+00:00\n",
       "2015-12-22 2015-12-22 14:30:00+00:00 2015-12-22 16:30:00+00:00\n",
       "2015-12-23 2015-12-23 14:30:00+00:00 2015-12-23 16:30:00+00:00\n",
       "2015-12-24 2015-12-24 14:30:00+00:00 2015-12-24 12:30:00+00:00\n",
       "2015-12-29 2015-12-29 14:30:00+00:00 2015-12-29 16:30:00+00:00\n",
       "2015-12-30 2015-12-30 14:30:00+00:00 2015-12-30 16:30:00+00:00\n",
       "2015-12-31 2015-12-31 14:30:00+00:00 2015-12-31 12:30:00+00:00\n",
       "2016-01-04 2016-01-04 14:30:00+00:00 2016-01-04 16:30:00+00:00\n",
       "2016-01-05 2016-01-05 14:30:00+00:00 2016-01-05 16:30:00+00:00\n",
       "2016-01-06 2016-01-06 14:30:00+00:00 2016-01-06 16:30:00+00:00"
      ]
     },
     "execution_count": 16,
     "metadata": {},
     "output_type": "execute_result"
    }
   ],
   "source": [
    "mcal.merge_schedules(schedules=[schedule_nyse, schedule_lse], how='inner')"
   ]
  },
  {
   "cell_type": "markdown",
   "metadata": {},
   "source": [
    "### Outer merge\n",
    "This will return the dates and times where either the NYSE or the LSE are open"
   ]
  },
  {
   "cell_type": "code",
   "execution_count": 17,
   "metadata": {
    "collapsed": false
   },
   "outputs": [
    {
     "data": {
      "text/html": [
       "<div>\n",
       "<table border=\"1\" class=\"dataframe\">\n",
       "  <thead>\n",
       "    <tr style=\"text-align: right;\">\n",
       "      <th></th>\n",
       "      <th>market_open</th>\n",
       "      <th>market_close</th>\n",
       "    </tr>\n",
       "  </thead>\n",
       "  <tbody>\n",
       "    <tr>\n",
       "      <th>2015-12-21</th>\n",
       "      <td>2015-12-21 08:00:00+00:00</td>\n",
       "      <td>2015-12-21 21:00:00+00:00</td>\n",
       "    </tr>\n",
       "    <tr>\n",
       "      <th>2015-12-22</th>\n",
       "      <td>2015-12-22 08:00:00+00:00</td>\n",
       "      <td>2015-12-22 21:00:00+00:00</td>\n",
       "    </tr>\n",
       "    <tr>\n",
       "      <th>2015-12-23</th>\n",
       "      <td>2015-12-23 08:00:00+00:00</td>\n",
       "      <td>2015-12-23 21:00:00+00:00</td>\n",
       "    </tr>\n",
       "    <tr>\n",
       "      <th>2015-12-24</th>\n",
       "      <td>2015-12-24 08:00:00+00:00</td>\n",
       "      <td>2015-12-24 18:00:00+00:00</td>\n",
       "    </tr>\n",
       "    <tr>\n",
       "      <th>2015-12-28</th>\n",
       "      <td>2015-12-28 14:30:00+00:00</td>\n",
       "      <td>2015-12-28 21:00:00+00:00</td>\n",
       "    </tr>\n",
       "    <tr>\n",
       "      <th>2015-12-29</th>\n",
       "      <td>2015-12-29 08:00:00+00:00</td>\n",
       "      <td>2015-12-29 21:00:00+00:00</td>\n",
       "    </tr>\n",
       "    <tr>\n",
       "      <th>2015-12-30</th>\n",
       "      <td>2015-12-30 08:00:00+00:00</td>\n",
       "      <td>2015-12-30 21:00:00+00:00</td>\n",
       "    </tr>\n",
       "    <tr>\n",
       "      <th>2015-12-31</th>\n",
       "      <td>2015-12-31 08:00:00+00:00</td>\n",
       "      <td>2015-12-31 21:00:00+00:00</td>\n",
       "    </tr>\n",
       "    <tr>\n",
       "      <th>2016-01-04</th>\n",
       "      <td>2016-01-04 08:00:00+00:00</td>\n",
       "      <td>2016-01-04 21:00:00+00:00</td>\n",
       "    </tr>\n",
       "    <tr>\n",
       "      <th>2016-01-05</th>\n",
       "      <td>2016-01-05 08:00:00+00:00</td>\n",
       "      <td>2016-01-05 21:00:00+00:00</td>\n",
       "    </tr>\n",
       "    <tr>\n",
       "      <th>2016-01-06</th>\n",
       "      <td>2016-01-06 08:00:00+00:00</td>\n",
       "      <td>2016-01-06 21:00:00+00:00</td>\n",
       "    </tr>\n",
       "  </tbody>\n",
       "</table>\n",
       "</div>"
      ],
      "text/plain": [
       "                         market_open              market_close\n",
       "2015-12-21 2015-12-21 08:00:00+00:00 2015-12-21 21:00:00+00:00\n",
       "2015-12-22 2015-12-22 08:00:00+00:00 2015-12-22 21:00:00+00:00\n",
       "2015-12-23 2015-12-23 08:00:00+00:00 2015-12-23 21:00:00+00:00\n",
       "2015-12-24 2015-12-24 08:00:00+00:00 2015-12-24 18:00:00+00:00\n",
       "2015-12-28 2015-12-28 14:30:00+00:00 2015-12-28 21:00:00+00:00\n",
       "2015-12-29 2015-12-29 08:00:00+00:00 2015-12-29 21:00:00+00:00\n",
       "2015-12-30 2015-12-30 08:00:00+00:00 2015-12-30 21:00:00+00:00\n",
       "2015-12-31 2015-12-31 08:00:00+00:00 2015-12-31 21:00:00+00:00\n",
       "2016-01-04 2016-01-04 08:00:00+00:00 2016-01-04 21:00:00+00:00\n",
       "2016-01-05 2016-01-05 08:00:00+00:00 2016-01-05 21:00:00+00:00\n",
       "2016-01-06 2016-01-06 08:00:00+00:00 2016-01-06 21:00:00+00:00"
      ]
     },
     "execution_count": 17,
     "metadata": {},
     "output_type": "execute_result"
    }
   ],
   "source": [
    "mcal.merge_schedules(schedules=[schedule_nyse, schedule_lse], how='outer')"
   ]
  },
  {
   "cell_type": "code",
   "execution_count": null,
   "metadata": {
    "collapsed": true
   },
   "outputs": [],
   "source": [
    ""
   ]
  }
 ],
 "metadata": {
  "anaconda-cloud": {},
  "kernelspec": {
   "display_name": "Python [default]",
   "language": "python",
   "name": "python3"
  },
  "language_info": {
   "codemirror_mode": {
    "name": "ipython",
    "version": 3.0
   },
   "file_extension": ".py",
   "mimetype": "text/x-python",
   "name": "python",
   "nbconvert_exporter": "python",
   "pygments_lexer": "ipython3",
   "version": "3.4.5"
  }
 },
 "nbformat": 4,
 "nbformat_minor": 0
}